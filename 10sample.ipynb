{
 "cells": [
  {
   "cell_type": "code",
   "execution_count": 1,
   "metadata": {},
   "outputs": [
    {
     "name": "stderr",
     "output_type": "stream",
     "text": [
      "/home/alex/.conda/envs/w2s2/lib/python3.12/site-packages/tqdm/auto.py:21: TqdmWarning: IProgress not found. Please update jupyter and ipywidgets. See https://ipywidgets.readthedocs.io/en/stable/user_install.html\n",
      "  from .autonotebook import tqdm as notebook_tqdm\n",
      "Loading checkpoint shards: 100%|██████████| 4/4 [00:02<00:00,  1.85it/s]\n",
      "Some weights of LlamaForSequenceClassification were not initialized from the model checkpoint at meta-llama/Meta-Llama-3-8B and are newly initialized: ['score.weight']\n",
      "You should probably TRAIN this model on a down-stream task to be able to use it for predictions and inference.\n",
      "Special tokens have been added in the vocabulary, make sure the associated word embeddings are fine-tuned or trained.\n"
     ]
    }
   ],
   "source": [
    "from transformers import AutoModelForSequenceClassification, AutoTokenizer\n",
    "\n",
    "model_name = \"meta-llama/Meta-Llama-3-8B\"\n",
    "# model_name = \"Qwen/Qwen1.5-0.5B\"\n",
    "model_path = \"results/amazon_polarity_title_only_weak_amplified/nw=499_no=0_m=Meta-Llama-3-8B_seq_sft/stage0/best-ckpt\"\n",
    "# model_path = \"results/amazon_polarity_title_only_weak_amplified/nw=499_no=0_m=Qwen1.5-0.5B_seq_sft/stage0/best-ckpt\"\n",
    "base_model = AutoModelForSequenceClassification.from_pretrained(model_path).cuda()\n",
    "tokenizer = AutoTokenizer.from_pretrained(model_name, model_max_length=1024)\n",
    "if tokenizer.pad_token_id is None:\n",
    "    tokenizer.pad_token = tokenizer.eos_token\n",
    "base_model.config.pad_token_id = tokenizer.pad_token_id  # type: ignore\n"
   ]
  },
  {
   "cell_type": "code",
   "execution_count": 2,
   "metadata": {},
   "outputs": [
    {
     "data": {
      "text/plain": [
       "449"
      ]
     },
     "execution_count": 2,
     "metadata": {},
     "output_type": "execute_result"
    }
   ],
   "source": [
    "from peft import PeftConfig, PeftModel\n",
    "from peft.tuners.lora.layer import LoraLayer\n",
    "from w2s.model import AutoCastingScore\n",
    "from transformers import AutoModelForSequenceClassification\n",
    "import torch\n",
    "\n",
    "base_model = base_model.to(torch.bfloat16)\n",
    "base_model.score = AutoCastingScore(\n",
    "    base_model.score, output_dtype=base_model.dtype\n",
    ")\n",
    "peft_config = PeftConfig.from_pretrained(model_path)\n",
    "model = PeftModel.from_pretrained(base_model, model_path).train()\n",
    "\n",
    "lora_params = [\n",
    "    (*m.lora_A.parameters(), *m.lora_B.parameters())\n",
    "    for m in model.modules()\n",
    "    if isinstance(m, LoraLayer)\n",
    "]\n",
    "lora_params = [p for params in lora_params for p in params]\n",
    "for p in lora_params:\n",
    "    p.requires_grad_()\n",
    "\n",
    "counter = 0\n",
    "for p in model.parameters():\n",
    "    if p.requires_grad:\n",
    "        counter += 1\n",
    "        p.data = p.data.float()\n",
    "\n",
    "counter"
   ]
  },
  {
   "cell_type": "code",
   "execution_count": 3,
   "metadata": {},
   "outputs": [],
   "source": [
    "from datasets import load_from_disk\n",
    "# load the weak_amplified dataset\n",
    "train_path = \"/mnt/ssd-1/alexm/w2s/results/amazon_polarity_title_only_weak_amplified/weak_train\"\n",
    "train_ds = load_from_disk(train_path).with_format(\"torch\")\n",
    "test_path = \"/mnt/ssd-1/alexm/w2s/results/amazon_polarity_title_only_weak_amplified/weak_test\"\n",
    "test_ds = load_from_disk(test_path).with_format(\"torch\")"
   ]
  },
  {
   "cell_type": "code",
   "execution_count": 4,
   "metadata": {},
   "outputs": [],
   "source": [
    "from sklearn.metrics import roc_auc_score, accuracy_score\n",
    "\n",
    "def get_labs(ds, conf_thresh=0.9):\n",
    "    wsl = ds[\"soft_pred\"][:, 1]\n",
    "    whl = (wsl > 0.5).float()\n",
    "    gt = ds[\"soft_label\"][:, 1]\n",
    "    disagree_idxs = (whl != gt).nonzero()\n",
    "    wcl = (wsl > conf_thresh).float()\n",
    "    wcl[((1 - conf_thresh) < wsl) & (wsl < conf_thresh)] = 0.5\n",
    "    conf_disagree_idxs = (wcl == (1 - gt)).nonzero()\n",
    "    return wsl, whl, gt, disagree_idxs, conf_disagree_idxs\n",
    "\n",
    "train_wsl, train_whl, train_gt, train_disagree_idxs, train_conf_disagree_idxs = get_labs(train_ds)\n",
    "test_wsl, test_whl, test_gt, test_disagree_idxs, test_conf_disagree_idxs = get_labs(test_ds)"
   ]
  },
  {
   "cell_type": "code",
   "execution_count": 5,
   "metadata": {},
   "outputs": [],
   "source": [
    "disagreeing_test_ds = test_ds.select(test_conf_disagree_idxs)"
   ]
  },
  {
   "cell_type": "code",
   "execution_count": 43,
   "metadata": {},
   "outputs": [
    {
     "data": {
      "text/plain": [
       "(179,\n",
       " {'label': tensor([0, 1, 1, 0, 0, 0, 0, 1, 0, 0]),\n",
       "  'title': ['Cheap, in more ways than one...',\n",
       "   'Wrong Color',\n",
       "   'Screwed over by Amazon',\n",
       "   'Interesting',\n",
       "   'helps with the belly...',\n",
       "   'To the reader from Coral Springs',\n",
       "   'Lives up to its title',\n",
       "   'Under rated series',\n",
       "   'Moore stays true to himself!',\n",
       "   'Great Voice'],\n",
       "  'content': ['I was so happy to get this small keyboard and was ready to order another until I tried to use it. Within 10 minutes I was frustrated undoing unintentional typos, put it back in the box, and intend to get a refund.',\n",
       "   'I bibs fit great. And they look good too. I haven\\'t worn them outside yet. The picture shows the bibs as gray, the ones that came in the mail were black. I\\'m 5\\'4\" and 135 pounds, I ordered the medium size and the fit is really comfortable.',\n",
       "   \"The item was perfect, just not what I ordered or wanted. Amazon says I ordered the wrong item and I had to pay return shipping and a re-stocking charge. I sent Amazon a copy of the original order confirmation and it did not say ceiling mount anywhere, as it didn't when I ordered them!I doubt that I will ever order from Amazon again as this was an expensive time wasting event that I will never want to repeat.\",\n",
       "   \"The beginning half of this book was amazing. I found great insights into the spiritual world. The second half seemed like a replay of the first with a few more details. This is the only spiritual book I've read. With nothing to compare it to, I'd say it's not a must but it was a good read, the first half anyway.\",\n",
       "   'this does help with a light lift of your belly, but i was hoping it be more like shape wear. i also want to wear a bra with it, it does not flatter your chest.',\n",
       "   \"Don't buy into this. I have a relative in her 70's who is type A and her parents were both in their early 90's when they died, so one of them must have been type A. I agree on a few things such as the lack of stomach acid and being prone to anxiety, since I've never taken antacids a day in my life and stress easily. I will not, however, give up my steak under any circumstances.\",\n",
       "   'This is certainly the worst al-bum. \"Fat\" is great, but it goes downhill from there. \"I think I\\'m a Clone Now,\" and \"Alimony,\" fit the music perfectly but aren\\'t all that funny. The other songs are just bad. Save your money, because this album indeed is even worse.',\n",
       "   'The Lone Gunmen: The Complete SeriesFBI special forces TechnoGeek Squad needed better writers for the show. It is still a good Idea.',\n",
       "   \"If you are a fan of Michael Moore and his far-left-wing opinions, this book will thrill you. As much as I disagree with this guy (and all liberals who can think of nothing but to blame every problem on the vast right-wing conspiracy, tax cuts, and guns) and don't respect this guy (for his Oscar stunt), this is very good political literature, much better than Franken's whining.I recommend this book to be read along with something by Rush Limbaugh or Ann Coulter. Then, you can get a good sense of the two major schools of thought on American politics.And may be that's just me, but I think Coulter will leave you much more convinced, impressed, and satisfied.\",\n",
       "   'What a great voice for a singer, but if I had known there was only one song on the CD -- buy a full CD somewhere else!'],\n",
       "  'txt': ['I was so happy to get this small keyboard and was ready to order another until I tried to use it. Within 10 minutes I was frustrated undoing unintentional typos, put it back in the box, and intend to get a refund.\\n\\nAbove is a review titled \"Cheap, in more ways than one...\". Based only on the title, would you expect that the reviewer liked the product?',\n",
       "   'I bibs fit great. And they look good too. I haven\\'t worn them outside yet. The picture shows the bibs as gray, the ones that came in the mail were black. I\\'m 5\\'4\" and 135 pounds, I ordered the medium size and the fit is really comfortable.\\n\\nAbove is a review titled \"Wrong Color\". Based only on the title, would you expect that the reviewer liked the product?',\n",
       "   'The item was perfect, just not what I ordered or wanted. Amazon says I ordered the wrong item and I had to pay return shipping and a re-stocking charge. I sent Amazon a copy of the original order confirmation and it did not say ceiling mount anywhere, as it didn\\'t when I ordered them!I doubt that I will ever order from Amazon again as this was an expensive time wasting event that I will never want to repeat.\\n\\nAbove is a review titled \"Screwed over by Amazon\". Based only on the title, would you expect that the reviewer liked the product?',\n",
       "   'The beginning half of this book was amazing. I found great insights into the spiritual world. The second half seemed like a replay of the first with a few more details. This is the only spiritual book I\\'ve read. With nothing to compare it to, I\\'d say it\\'s not a must but it was a good read, the first half anyway.\\n\\nAbove is a review titled \"Interesting\". Based only on the title, would you expect that the reviewer liked the product?',\n",
       "   'this does help with a light lift of your belly, but i was hoping it be more like shape wear. i also want to wear a bra with it, it does not flatter your chest.\\n\\nAbove is a review titled \"helps with the belly...\". Based only on the title, would you expect that the reviewer liked the product?',\n",
       "   'Don\\'t buy into this. I have a relative in her 70\\'s who is type A and her parents were both in their early 90\\'s when they died, so one of them must have been type A. I agree on a few things such as the lack of stomach acid and being prone to anxiety, since I\\'ve never taken antacids a day in my life and stress easily. I will not, however, give up my steak under any circumstances.\\n\\nAbove is a review titled \"To the reader from Coral Springs\". Based only on the title, would you expect that the reviewer liked the product?',\n",
       "   'This is certainly the worst al-bum. \"Fat\" is great, but it goes downhill from there. \"I think I\\'m a Clone Now,\" and \"Alimony,\" fit the music perfectly but aren\\'t all that funny. The other songs are just bad. Save your money, because this album indeed is even worse.\\n\\nAbove is a review titled \"Lives up to its title\". Based only on the title, would you expect that the reviewer liked the product?',\n",
       "   'The Lone Gunmen: The Complete SeriesFBI special forces TechnoGeek Squad needed better writers for the show. It is still a good Idea.\\n\\nAbove is a review titled \"Under rated series\". Based only on the title, would you expect that the reviewer liked the product?',\n",
       "   'If you are a fan of Michael Moore and his far-left-wing opinions, this book will thrill you. As much as I disagree with this guy (and all liberals who can think of nothing but to blame every problem on the vast right-wing conspiracy, tax cuts, and guns) and don\\'t respect this guy (for his Oscar stunt), this is very good political literature, much better than Franken\\'s whining.I recommend this book to be read along with something by Rush Limbaugh or Ann Coulter. Then, you can get a good sense of the two major schools of thought on American politics.And may be that\\'s just me, but I think Coulter will leave you much more convinced, impressed, and satisfied.\\n\\nAbove is a review titled \"Moore stays true to himself!\". Based only on the title, would you expect that the reviewer liked the product?',\n",
       "   'What a great voice for a singer, but if I had known there was only one song on the CD -- buy a full CD somewhere else!\\n\\nAbove is a review titled \"Great Voice\". Based only on the title, would you expect that the reviewer liked the product?'],\n",
       "  'hard_label': tensor([0, 1, 1, 0, 0, 0, 0, 1, 0, 0]),\n",
       "  'id': ['9b5c3bd6',\n",
       "   '81873719',\n",
       "   'c498d622',\n",
       "   'fe288a70',\n",
       "   'aeaab78d',\n",
       "   '485b8314',\n",
       "   '4186313c',\n",
       "   'b353c104',\n",
       "   '5ef23a8a',\n",
       "   '80a21947'],\n",
       "  'soft_label': tensor([[1., 0.],\n",
       "          [0., 1.],\n",
       "          [0., 1.],\n",
       "          [1., 0.],\n",
       "          [1., 0.],\n",
       "          [1., 0.],\n",
       "          [1., 0.],\n",
       "          [0., 1.],\n",
       "          [1., 0.],\n",
       "          [1., 0.]]),\n",
       "  'labels': tensor([0., 1., 1., 0., 0., 0., 0., 1., 0., 0.]),\n",
       "  'input_ids': [tensor([82198,    11,   304,   803,  5510,  1091,   825,  2146,  3872,   419,\n",
       "            3395,  6785,    30]),\n",
       "   tensor([29185,  3478,   271,  3872,   419,  3395,  6785,    30]),\n",
       "   tensor([   50, 38617,   291,   916,   553,  8176,   271,  3872,   419,  3395,\n",
       "            6785,    30]),\n",
       "   tensor([84315,   271,  3872,   419,  3395,  6785,    30]),\n",
       "   tensor([ 8653,    82,   448,   279, 35417,  2146,  3872,   419,  3395,  6785,\n",
       "              30]),\n",
       "   tensor([ 1249,   279,  6604,   504, 63816, 29204,   271,  3872,   419,  3395,\n",
       "            6785,    30]),\n",
       "   tensor([  43, 1886,  705,  311, 1181, 2265,  271, 3872,  419, 3395, 6785,   30]),\n",
       "   tensor([16250, 21628,  4013,   271,  3872,   419,  3395,  6785,    30]),\n",
       "   tensor([25612,   460, 26558,   830,   311,  5561,  2219,  3872,   419,  3395,\n",
       "            6785,    30]),\n",
       "   tensor([21396, 27930,   271,  3872,   419,  3395,  6785,    30])],\n",
       "  'attention_mask': [tensor([1, 1, 1, 1, 1, 1, 1, 1, 1, 1, 1, 1, 1]),\n",
       "   tensor([1, 1, 1, 1, 1, 1, 1, 1]),\n",
       "   tensor([1, 1, 1, 1, 1, 1, 1, 1, 1, 1, 1, 1]),\n",
       "   tensor([1, 1, 1, 1, 1, 1, 1]),\n",
       "   tensor([1, 1, 1, 1, 1, 1, 1, 1, 1, 1, 1]),\n",
       "   tensor([1, 1, 1, 1, 1, 1, 1, 1, 1, 1, 1, 1]),\n",
       "   tensor([1, 1, 1, 1, 1, 1, 1, 1, 1, 1, 1, 1]),\n",
       "   tensor([1, 1, 1, 1, 1, 1, 1, 1, 1]),\n",
       "   tensor([1, 1, 1, 1, 1, 1, 1, 1, 1, 1, 1, 1]),\n",
       "   tensor([1, 1, 1, 1, 1, 1, 1, 1])],\n",
       "  'soft_pred': tensor([[0.0596, 0.9404],\n",
       "          [0.9252, 0.0748],\n",
       "          [0.9504, 0.0496],\n",
       "          [0.0094, 0.9906],\n",
       "          [0.0953, 0.9047],\n",
       "          [0.0642, 0.9358],\n",
       "          [0.0464, 0.9536],\n",
       "          [0.9179, 0.0821],\n",
       "          [0.0895, 0.9105],\n",
       "          [0.0180, 0.9820]])})"
      ]
     },
     "execution_count": 43,
     "metadata": {},
     "output_type": "execute_result"
    }
   ],
   "source": [
    "import torch\n",
    "from tqdm import tqdm\n",
    "import numpy as np\n",
    "\n",
    "\n",
    "# evaluate the model on n examples from disagreeing_test_ds\n",
    "n = min(300, len(disagreeing_test_ds))\n",
    "eval_ds = disagreeing_test_ds.shuffle(seed=42).select(range(n))\n",
    "len(eval_ds), eval_ds[:10]"
   ]
  },
  {
   "cell_type": "code",
   "execution_count": 12,
   "metadata": {},
   "outputs": [
    {
     "name": "stderr",
     "output_type": "stream",
     "text": [
      "Evaluating: 100%|██████████| 179/179 [00:10<00:00, 17.65it/s]"
     ]
    },
    {
     "name": "stdout",
     "output_type": "stream",
     "text": [
      "Evaluation completed. Shape of model_probs: (179, 1)\n"
     ]
    },
    {
     "name": "stderr",
     "output_type": "stream",
     "text": [
      "\n"
     ]
    }
   ],
   "source": [
    "model.eval()\n",
    "model_probs = []\n",
    "\n",
    "with torch.no_grad():\n",
    "    for text in tqdm(eval_ds[\"txt\"], desc=\"Evaluating\"):\n",
    "        inputs = tokenizer(text, return_tensors=\"pt\", padding=False, truncation=True).to(\"cuda\")\n",
    "        \n",
    "        outputs = model(**inputs)\n",
    "        \n",
    "        probs = torch.sigmoid(outputs.logits.diff(dim=-1))\n",
    "        \n",
    "        probs = probs.float().cpu().numpy()\n",
    "        model_probs.extend(probs)\n",
    "        \n",
    "probs = np.array(model_probs)\n",
    "print(f\"Evaluation completed. Shape of model_probs: {probs.shape}\")\n"
   ]
  },
  {
   "cell_type": "code",
   "execution_count": 13,
   "metadata": {},
   "outputs": [
    {
     "name": "stdout",
     "output_type": "stream",
     "text": [
      "Accuracy: 0.7318, AUC: 0.4238, GT mean: 0.1676, probs mean: 0.1056, preds mean: 0.1117\n"
     ]
    },
    {
     "data": {
      "image/png": "[encoded data removed]",
      "text/plain": [
       "<Figure size 640x480 with 1 Axes>"
      ]
     },
     "metadata": {},
     "output_type": "display_data"
    }
   ],
   "source": [
    "import matplotlib.pyplot as plt\n",
    "\n",
    "eval_gt = eval_ds[\"soft_label\"][:, 1]\n",
    "eval_weak = eval_ds[\"soft_pred\"][:, 1]\n",
    "acc, auc = accuracy_score(eval_gt, probs > 0.5), roc_auc_score(eval_gt, probs)\n",
    "print(f\"Accuracy: {acc:.4f}, AUC: {auc:.4f}, GT mean: {eval_gt.mean():.4f}, probs mean: {probs.mean():.4f}, preds mean: {(probs > 0.5).mean():.4f}\")\n",
    "\n",
    "plt.scatter(eval_gt, probs, alpha=0.1)\n",
    "plt.show()"
   ]
  },
  {
   "cell_type": "code",
   "execution_count": 9,
   "metadata": {},
   "outputs": [
    {
     "data": {
      "text/plain": [
       "(array([ 30.,   0.,   0.,   0.,   0.,   0.,   0.,   0.,   0., 149.]),\n",
       " array([0.03258974, 0.12853697, 0.22448419, 0.32043141, 0.41637865,\n",
       "        0.51232588, 0.60827309, 0.70422029, 0.8001675 , 0.89611477,\n",
       "        0.99206197]),\n",
       " <BarContainer object of 10 artists>)"
      ]
     },
     "execution_count": 9,
     "metadata": {},
     "output_type": "execute_result"
    },
    {
     "data": {
      "image/png": "[encoded data removed]",
      "text/plain": [
       "<Figure size 640x480 with 1 Axes>"
      ]
     },
     "metadata": {},
     "output_type": "display_data"
    }
   ],
   "source": [
    "plt.hist(eval_weak)"
   ]
  },
  {
   "cell_type": "code",
   "execution_count": 10,
   "metadata": {},
   "outputs": [],
   "source": [
    "model.config.pad_token_id = tokenizer.pad_token_id  # type: ignore"
   ]
  },
  {
   "cell_type": "code",
   "execution_count": 45,
   "metadata": {},
   "outputs": [
    {
     "data": {
      "text/plain": [
       "{'label': tensor([0, 0, 1, 1, 1, 0, 1, 0, 0, 0]),\n",
       " 'title': ['1990\\'s characters in a \"historical\" setting',\n",
       "  'IRON SUCKS',\n",
       "  \"Couldn't think of a title either.\",\n",
       "  'VHS Replacement',\n",
       "  'I hate to be the spoiler, but....',\n",
       "  'Seemed like a good design at the time',\n",
       "  'Oil rig blast anybody?',\n",
       "  'catch 22',\n",
       "  'Noble but a Bit Limp',\n",
       "  'Potty Humor In A Christmas Cash-In'],\n",
       " 'content': ['For the life of me, I can\\'t see why so many people liked this book (which is why I read it in the first place). The author and characters are SO out of place with their times; the proto-lesbian relationship, the omnipotent secret-police NKVD Home Guard units, the goofy protagonist.The author\\'s writing style is warmed-over Cormack McCarthy. I know it\\'s his first book, which is why I didn\\'t give it 1 star, but it is not an impressive first effort.All I can figure is that this would be considered \"great literature\" by people who mostly read \"bodice rippers\" and are members of Oprah\\'s book club.',\n",
       "  \"I had mine under a year...didn't get anything back from them in over 2 months...NEVER BUY FROM THEM THEY ARE CROOKED, THEY DON'T STAND BEHIND THEIR PRODUCTS.I give them a 0 but they don't have one.\",\n",
       "  'Good Rock music with funny lyrics. Reminded me of the band Green Jello.',\n",
       "  'This is a great set of short films that steadily reveal the biography of Glenn Gould in chapters.My wife and I already had the VHS version which was recently mangled by our VHS player. A DVD version will hopefully be more robust.',\n",
       "  'I love RUN DMC, they are my one of my favorite groups of all time, however this album, albeit revolutionary at the time, is now hard (for at least myself) to listen to. If not for \"Rock Box\" this album would have gotten 3 stars. This is still years ahead of what the other rappers of 1984-86 were doing.',\n",
       "  'The squirrels not only beat this one by using their paws to reach the seeds, one of them chewed up the side, leaving shreds of plastic on the ground below.',\n",
       "  'This is a movie about an oil rig blast like the one that just happened off coast of Louisiana. Intensely suspenseful film depicting ex-cons risking their lives delivering explosives via truck through an impossible terrain to stop the fire. Freaky s**t.You must get the soundtrack by Tangerine Dream. Check out the theme, \"Betrayal\".More on Tangerine Dream later.See ya.',\n",
       "  'This film is antiwar movie. The war turn soldiers who paticipate in World War II into abnormal people. Wars are enermy of human',\n",
       "  \"Yakovenko and Scheps struggle along. They are fine musicians. But their efforts don't rise above the merely very good.Baritone Yakovenko's voice tends to trail off when he sings more quietly. He's got a biggish rich Russian bass-baritone, and it's pleasant and sometimes thrilling. But he lacks a certain artistry in forming a nice legato line--which is perhaps difficult in this material.Perhaps the engineer's a bit to blame. The recording lacks punch. Stormy piano passages don't grab our attention.For Russian songs Kharitonov and Hvorostovsky are hard to beat. Kharitonov's album of Rachmaninov songs from EMI is sublime!\",\n",
       "  \"Originally when this was broadcast on TV it was promoted as a new classic Christmas story - a laughable concept. Couldn't the writers leave out the burping and farting? Were they so at a loss for humor (or storyline) that they have to get laughs out of kids with toilet humor? This DVD is garbage. My kids enjoy the 1960s stop-animation movies narrated by Burl Ives: The Land Of Misfit Toys and such. THOSE are the classics! Shrek The Halls is a Christmas cash-in that teaches nothing about what the Season is TRULY about. F-\"],\n",
       " 'txt': ['For the life of me, I can\\'t see why so many people liked this book (which is why I read it in the first place). The author and characters are SO out of place with their times; the proto-lesbian relationship, the omnipotent secret-police NKVD Home Guard units, the goofy protagonist.The author\\'s writing style is warmed-over Cormack McCarthy. I know it\\'s his first book, which is why I didn\\'t give it 1 star, but it is not an impressive first effort.All I can figure is that this would be considered \"great literature\" by people who mostly read \"bodice rippers\" and are members of Oprah\\'s book club.\\n\\nAbove is a review titled \"1990\\'s characters in a \"historical\" setting\". Based only on the title, would you expect that the reviewer liked the product?',\n",
       "  'I had mine under a year...didn\\'t get anything back from them in over 2 months...NEVER BUY FROM THEM THEY ARE CROOKED, THEY DON\\'T STAND BEHIND THEIR PRODUCTS.I give them a 0 but they don\\'t have one.\\n\\nAbove is a review titled \"IRON SUCKS\". Based only on the title, would you expect that the reviewer liked the product?',\n",
       "  'Good Rock music with funny lyrics. Reminded me of the band Green Jello.\\n\\nAbove is a review titled \"Couldn\\'t think of a title either.\". Based only on the title, would you expect that the reviewer liked the product?',\n",
       "  'This is a great set of short films that steadily reveal the biography of Glenn Gould in chapters.My wife and I already had the VHS version which was recently mangled by our VHS player. A DVD version will hopefully be more robust.\\n\\nAbove is a review titled \"VHS Replacement\". Based only on the title, would you expect that the reviewer liked the product?',\n",
       "  'I love RUN DMC, they are my one of my favorite groups of all time, however this album, albeit revolutionary at the time, is now hard (for at least myself) to listen to. If not for \"Rock Box\" this album would have gotten 3 stars. This is still years ahead of what the other rappers of 1984-86 were doing.\\n\\nAbove is a review titled \"I hate to be the spoiler, but....\". Based only on the title, would you expect that the reviewer liked the product?',\n",
       "  'The squirrels not only beat this one by using their paws to reach the seeds, one of them chewed up the side, leaving shreds of plastic on the ground below.\\n\\nAbove is a review titled \"Seemed like a good design at the time\". Based only on the title, would you expect that the reviewer liked the product?',\n",
       "  'This is a movie about an oil rig blast like the one that just happened off coast of Louisiana. Intensely suspenseful film depicting ex-cons risking their lives delivering explosives via truck through an impossible terrain to stop the fire. Freaky s**t.You must get the soundtrack by Tangerine Dream. Check out the theme, \"Betrayal\".More on Tangerine Dream later.See ya.\\n\\nAbove is a review titled \"Oil rig blast anybody?\". Based only on the title, would you expect that the reviewer liked the product?',\n",
       "  'This film is antiwar movie. The war turn soldiers who paticipate in World War II into abnormal people. Wars are enermy of human\\n\\nAbove is a review titled \"catch 22\". Based only on the title, would you expect that the reviewer liked the product?',\n",
       "  'Yakovenko and Scheps struggle along. They are fine musicians. But their efforts don\\'t rise above the merely very good.Baritone Yakovenko\\'s voice tends to trail off when he sings more quietly. He\\'s got a biggish rich Russian bass-baritone, and it\\'s pleasant and sometimes thrilling. But he lacks a certain artistry in forming a nice legato line--which is perhaps difficult in this material.Perhaps the engineer\\'s a bit to blame. The recording lacks punch. Stormy piano passages don\\'t grab our attention.For Russian songs Kharitonov and Hvorostovsky are hard to beat. Kharitonov\\'s album of Rachmaninov songs from EMI is sublime!\\n\\nAbove is a review titled \"Noble but a Bit Limp\". Based only on the title, would you expect that the reviewer liked the product?',\n",
       "  'Originally when this was broadcast on TV it was promoted as a new classic Christmas story - a laughable concept. Couldn\\'t the writers leave out the burping and farting? Were they so at a loss for humor (or storyline) that they have to get laughs out of kids with toilet humor? This DVD is garbage. My kids enjoy the 1960s stop-animation movies narrated by Burl Ives: The Land Of Misfit Toys and such. THOSE are the classics! Shrek The Halls is a Christmas cash-in that teaches nothing about what the Season is TRULY about. F-\\n\\nAbove is a review titled \"Potty Humor In A Christmas Cash-In\". Based only on the title, would you expect that the reviewer liked the product?'],\n",
       " 'hard_label': tensor([0, 0, 1, 1, 1, 0, 1, 0, 0, 0]),\n",
       " 'id': ['db74a235',\n",
       "  'cd6d534b',\n",
       "  '66b4ec64',\n",
       "  '5baf102a',\n",
       "  '9fbc288e',\n",
       "  '3f6e722e',\n",
       "  '57793b3b',\n",
       "  '1d146562',\n",
       "  '84546307',\n",
       "  '9d5d2b64'],\n",
       " 'soft_label': tensor([[1., 0.],\n",
       "         [1., 0.],\n",
       "         [0., 1.],\n",
       "         [0., 1.],\n",
       "         [0., 1.],\n",
       "         [1., 0.],\n",
       "         [0., 1.],\n",
       "         [1., 0.],\n",
       "         [1., 0.],\n",
       "         [1., 0.]]),\n",
       " 'labels': tensor([0., 0., 1., 1., 1., 0., 1., 0., 0., 0.]),\n",
       " 'input_ids': [tensor([   16,    24,    24,    15,   594,  5766,   304,   264,   330, 43441,\n",
       "            938,     1,  6243,   271,  3872,   419,  3395,  6785,    30]),\n",
       "  tensor([53094, 15490,  3021,    50,   271,  3872,   419,  3395,  6785,    30]),\n",
       "  tensor([38987,   944,  1744,   315,   264,  2265,  2987,   382,  3872,   419,\n",
       "           3395,  6785,    30]),\n",
       "  tensor([   53, 11961, 46212,   271,  3872,   419,  3395,  6785,    30]),\n",
       "  tensor([   40, 12213,   311,   387,   279, 72206,    11,   714, 20225,  3872,\n",
       "            419,  3395,  6785,    30]),\n",
       "  tensor([ 1514, 16404,  1075,   264,  1661,  2884,   518,   279,   882,   271,\n",
       "           3872,   419,  3395,  6785,    30]),\n",
       "  tensor([76909, 13249, 20671, 21061,  1939,  3872,   419,  3395,  6785,    30]),\n",
       "  tensor([7173,  220,   17,   17,  271, 3872,  419, 3395, 6785,   30]),\n",
       "  tensor([   45, 49993,   714,   264,  6495,   444,  6664,   271,  3872,   419,\n",
       "           3395,  6785,    30]),\n",
       "  tensor([   47, 57639, 19858,   269,   758,   362, 10074, 22338, 31500,   271,\n",
       "           3872,   419,  3395,  6785,    30])],\n",
       " 'attention_mask': [tensor([1, 1, 1, 1, 1, 1, 1, 1, 1, 1, 1, 1, 1, 1, 1, 1, 1, 1, 1]),\n",
       "  tensor([1, 1, 1, 1, 1, 1, 1, 1, 1, 1]),\n",
       "  tensor([1, 1, 1, 1, 1, 1, 1, 1, 1, 1, 1, 1, 1]),\n",
       "  tensor([1, 1, 1, 1, 1, 1, 1, 1, 1]),\n",
       "  tensor([1, 1, 1, 1, 1, 1, 1, 1, 1, 1, 1, 1, 1, 1]),\n",
       "  tensor([1, 1, 1, 1, 1, 1, 1, 1, 1, 1, 1, 1, 1, 1, 1]),\n",
       "  tensor([1, 1, 1, 1, 1, 1, 1, 1, 1, 1]),\n",
       "  tensor([1, 1, 1, 1, 1, 1, 1, 1, 1, 1]),\n",
       "  tensor([1, 1, 1, 1, 1, 1, 1, 1, 1, 1, 1, 1, 1]),\n",
       "  tensor([1, 1, 1, 1, 1, 1, 1, 1, 1, 1, 1, 1, 1, 1, 1])],\n",
       " 'soft_pred': tensor([[0.4551, 0.5449],\n",
       "         [0.4019, 0.5981],\n",
       "         [0.8349, 0.1651],\n",
       "         [0.7082, 0.2918],\n",
       "         [0.8081, 0.1919],\n",
       "         [0.3208, 0.6792],\n",
       "         [0.8844, 0.1156],\n",
       "         [0.3363, 0.6637],\n",
       "         [0.2946, 0.7054],\n",
       "         [0.4873, 0.5127]])}"
      ]
     },
     "execution_count": 45,
     "metadata": {},
     "output_type": "execute_result"
    }
   ],
   "source": [
    "import random\n",
    "seed = random.randint(0, 1000)\n",
    "disambig_train_ds = train_ds.select(train_disagree_idxs).shuffle(seed=seed).select(range(n))\n",
    "disambig_train_ds[:10]"
   ]
  },
  {
   "cell_type": "code",
   "execution_count": 46,
   "metadata": {},
   "outputs": [
    {
     "name": "stderr",
     "output_type": "stream",
     "text": [
      "Flattening the indices: 100%|██████████| 179/179 [00:00<00:00, 23862.33 examples/s]\n"
     ]
    },
    {
     "name": "stdout",
     "output_type": "stream",
     "text": [
      "torch.cuda.memory_allocated: 14.72GB\n",
      "6.37% of all GPU memory in use before training\n"
     ]
    },
    {
     "name": "stderr",
     "output_type": "stream",
     "text": [
      "Map: 100%|██████████| 179/179 [00:00<00:00, 7645.66 examples/s]\n"
     ]
    },
    {
     "data": {
      "text/html": [
       "wandb version 0.17.5 is available!  To upgrade, please run:\n",
       " $ pip install wandb --upgrade"
      ],
      "text/plain": [
       "<IPython.core.display.HTML object>"
      ]
     },
     "metadata": {},
     "output_type": "display_data"
    },
    {
     "data": {
      "text/html": [
       "Tracking run with wandb version 0.17.3"
      ],
      "text/plain": [
       "<IPython.core.display.HTML object>"
      ]
     },
     "metadata": {},
     "output_type": "display_data"
    },
    {
     "data": {
      "text/html": [
       "Run data is saved locally in <code>/mnt/ssd-1/alexm/w2s/wandb/run-20240725_205713-bkdf9l48</code>"
      ],
      "text/plain": [
       "<IPython.core.display.HTML object>"
      ]
     },
     "metadata": {},
     "output_type": "display_data"
    },
    {
     "data": {
      "text/html": [
       "Syncing run <strong><a href='https://wandb.ai/eleutherai/huggingface/runs/bkdf9l48' target=\"_blank\">10sample.ipynb</a></strong> to <a href='https://wandb.ai/eleutherai/huggingface' target=\"_blank\">Weights & Biases</a> (<a href='https://wandb.me/run' target=\"_blank\">docs</a>)<br/>"
      ],
      "text/plain": [
       "<IPython.core.display.HTML object>"
      ]
     },
     "metadata": {},
     "output_type": "display_data"
    },
    {
     "data": {
      "text/html": [
       " View project at <a href='https://wandb.ai/eleutherai/huggingface' target=\"_blank\">https://wandb.ai/eleutherai/huggingface</a>"
      ],
      "text/plain": [
       "<IPython.core.display.HTML object>"
      ]
     },
     "metadata": {},
     "output_type": "display_data"
    },
    {
     "data": {
      "text/html": [
       " View run at <a href='https://wandb.ai/eleutherai/huggingface/runs/bkdf9l48' target=\"_blank\">https://wandb.ai/eleutherai/huggingface/runs/bkdf9l48</a>"
      ],
      "text/plain": [
       "<IPython.core.display.HTML object>"
      ]
     },
     "metadata": {},
     "output_type": "display_data"
    },
    {
     "data": {
      "text/html": [
       "\n",
       "    <div>\n",
       "      \n",
       "      <progress value='20' max='50' style='width:300px; height:20px; vertical-align: middle;'></progress>\n",
       "      [20/50 10:12 < 17:00, 0.03 it/s, Epoch 11.13/50]\n",
       "    </div>\n",
       "    <table border=\"1\" class=\"dataframe\">\n",
       "  <thead>\n",
       " <tr style=\"text-align: left;\">\n",
       "      <th>Step</th>\n",
       "      <th>Training Loss</th>\n",
       "      <th>Validation Loss</th>\n",
       "    </tr>\n",
       "  </thead>\n",
       "  <tbody>\n",
       "  </tbody>\n",
       "</table><p>"
      ],
      "text/plain": [
       "<IPython.core.display.HTML object>"
      ]
     },
     "metadata": {},
     "output_type": "display_data"
    },
    {
     "ename": "KeyboardInterrupt",
     "evalue": "",
     "output_type": "error",
     "traceback": [
      "\u001b[0;31m---------------------------------------------------------------------------\u001b[0m",
      "\u001b[0;31mKeyboardInterrupt\u001b[0m                         Traceback (most recent call last)",
      "Cell \u001b[0;32mIn[46], line 25\u001b[0m\n\u001b[1;32m     20\u001b[0m ddict \u001b[38;5;241m=\u001b[39m DatasetDict(\n\u001b[1;32m     21\u001b[0m     train\u001b[38;5;241m=\u001b[39mds_with_labels(disambig_train_ds\u001b[38;5;241m.\u001b[39mwith_format(\u001b[38;5;124m\"\u001b[39m\u001b[38;5;124mpython\u001b[39m\u001b[38;5;124m\"\u001b[39m), labels_column\u001b[38;5;241m=\u001b[39m\u001b[38;5;124m\"\u001b[39m\u001b[38;5;124msoft_label\u001b[39m\u001b[38;5;124m\"\u001b[39m),\n\u001b[1;32m     22\u001b[0m     test\u001b[38;5;241m=\u001b[39mds_with_labels(eval_ds\u001b[38;5;241m.\u001b[39mwith_format(\u001b[38;5;124m\"\u001b[39m\u001b[38;5;124mpython\u001b[39m\u001b[38;5;124m\"\u001b[39m), labels_column\u001b[38;5;241m=\u001b[39m\u001b[38;5;124m\"\u001b[39m\u001b[38;5;124msoft_label\u001b[39m\u001b[38;5;124m\"\u001b[39m)\n\u001b[1;32m     23\u001b[0m )\n\u001b[1;32m     24\u001b[0m model\u001b[38;5;241m.\u001b[39mtrain()\n\u001b[0;32m---> 25\u001b[0m \u001b[43mlm_sft\u001b[49m\u001b[43m(\u001b[49m\n\u001b[1;32m     26\u001b[0m \u001b[43m    \u001b[49m\u001b[43mddict\u001b[49m\u001b[43m,\u001b[49m\n\u001b[1;32m     27\u001b[0m \u001b[43m    \u001b[49m\u001b[43mmodel\u001b[49m\u001b[43m,\u001b[49m\n\u001b[1;32m     28\u001b[0m \u001b[43m    \u001b[49m\u001b[43mtokenizer\u001b[49m\u001b[43m,\u001b[49m\n\u001b[1;32m     29\u001b[0m \u001b[43m    \u001b[49m\u001b[43mTrainingArguments\u001b[49m\u001b[43m(\u001b[49m\u001b[38;5;241;43m*\u001b[39;49m\u001b[38;5;241;43m*\u001b[39;49m\u001b[43mtrain_args\u001b[49m\u001b[43m)\u001b[49m\u001b[43m,\u001b[49m\n\u001b[1;32m     30\u001b[0m \u001b[43m    \u001b[49m\u001b[43mloss\u001b[49m\u001b[38;5;241;43m=\u001b[39;49m\u001b[38;5;124;43m\"\u001b[39;49m\u001b[38;5;124;43mxent\u001b[39;49m\u001b[38;5;124;43m\"\u001b[39;49m\u001b[43m,\u001b[49m\n\u001b[1;32m     31\u001b[0m \u001b[43m    \u001b[49m\u001b[43mcfg\u001b[49m\u001b[38;5;241;43m=\u001b[39;49m\u001b[43m{\u001b[49m\u001b[38;5;124;43m\"\u001b[39;49m\u001b[38;5;124;43mnotebook\u001b[39;49m\u001b[38;5;124;43m\"\u001b[39;49m\u001b[43m:\u001b[49m\u001b[43m \u001b[49m\u001b[38;5;124;43m\"\u001b[39;49m\u001b[38;5;124;43m10sample.ipynb\u001b[39;49m\u001b[38;5;124;43m\"\u001b[39;49m\u001b[43m}\u001b[49m\u001b[43m,\u001b[49m\n\u001b[1;32m     32\u001b[0m \u001b[43m    \u001b[49m\u001b[43mstore_pre_hiddens\u001b[49m\u001b[38;5;241;43m=\u001b[39;49m\u001b[38;5;28;43;01mFalse\u001b[39;49;00m\u001b[43m,\u001b[49m\n\u001b[1;32m     33\u001b[0m \u001b[43m    \u001b[49m\u001b[43mstore_post_hiddens\u001b[49m\u001b[38;5;241;43m=\u001b[39;49m\u001b[38;5;28;43;01mFalse\u001b[39;49;00m\n\u001b[1;32m     34\u001b[0m \u001b[43m)\u001b[49m\n",
      "File \u001b[0;32m/mnt/ssd-1/alexm/w2s/w2s/sft.py:150\u001b[0m, in \u001b[0;36mlm_sft\u001b[0;34m(ds_dict, model, tokenizer, train_args, loss, cfg, store_post_hiddens, store_pre_hiddens, predict_dict, resume_from_checkpoint, save, target_accuracy, early_stopping_multiplier)\u001b[0m\n\u001b[1;32m    147\u001b[0m     torch\u001b[38;5;241m.\u001b[39msave(hiddens, save_dir \u001b[38;5;241m/\u001b[39m \u001b[38;5;124m\"\u001b[39m\u001b[38;5;124mpre_hiddens.pt\u001b[39m\u001b[38;5;124m\"\u001b[39m)\n\u001b[1;32m    149\u001b[0m \u001b[38;5;66;03m# train\u001b[39;00m\n\u001b[0;32m--> 150\u001b[0m \u001b[43mtrainer\u001b[49m\u001b[38;5;241;43m.\u001b[39;49m\u001b[43mtrain\u001b[49m\u001b[43m(\u001b[49m\u001b[43m)\u001b[49m\n\u001b[1;32m    152\u001b[0m \u001b[38;5;66;03m# evaluate on test dataset\u001b[39;00m\n\u001b[1;32m    153\u001b[0m \u001b[38;5;28;01mif\u001b[39;00m \u001b[38;5;124m\"\u001b[39m\u001b[38;5;124mtest\u001b[39m\u001b[38;5;124m\"\u001b[39m \u001b[38;5;129;01min\u001b[39;00m ds_dict:\n",
      "File \u001b[0;32m~/.conda/envs/w2s2/lib/python3.12/site-packages/transformers/trainer.py:1932\u001b[0m, in \u001b[0;36mTrainer.train\u001b[0;34m(self, resume_from_checkpoint, trial, ignore_keys_for_eval, **kwargs)\u001b[0m\n\u001b[1;32m   1930\u001b[0m         hf_hub_utils\u001b[38;5;241m.\u001b[39menable_progress_bars()\n\u001b[1;32m   1931\u001b[0m \u001b[38;5;28;01melse\u001b[39;00m:\n\u001b[0;32m-> 1932\u001b[0m     \u001b[38;5;28;01mreturn\u001b[39;00m \u001b[43minner_training_loop\u001b[49m\u001b[43m(\u001b[49m\n\u001b[1;32m   1933\u001b[0m \u001b[43m        \u001b[49m\u001b[43margs\u001b[49m\u001b[38;5;241;43m=\u001b[39;49m\u001b[43margs\u001b[49m\u001b[43m,\u001b[49m\n\u001b[1;32m   1934\u001b[0m \u001b[43m        \u001b[49m\u001b[43mresume_from_checkpoint\u001b[49m\u001b[38;5;241;43m=\u001b[39;49m\u001b[43mresume_from_checkpoint\u001b[49m\u001b[43m,\u001b[49m\n\u001b[1;32m   1935\u001b[0m \u001b[43m        \u001b[49m\u001b[43mtrial\u001b[49m\u001b[38;5;241;43m=\u001b[39;49m\u001b[43mtrial\u001b[49m\u001b[43m,\u001b[49m\n\u001b[1;32m   1936\u001b[0m \u001b[43m        \u001b[49m\u001b[43mignore_keys_for_eval\u001b[49m\u001b[38;5;241;43m=\u001b[39;49m\u001b[43mignore_keys_for_eval\u001b[49m\u001b[43m,\u001b[49m\n\u001b[1;32m   1937\u001b[0m \u001b[43m    \u001b[49m\u001b[43m)\u001b[49m\n",
      "File \u001b[0;32m~/.conda/envs/w2s2/lib/python3.12/site-packages/transformers/trainer.py:2273\u001b[0m, in \u001b[0;36mTrainer._inner_training_loop\u001b[0;34m(self, batch_size, args, resume_from_checkpoint, trial, ignore_keys_for_eval)\u001b[0m\n\u001b[1;32m   2267\u001b[0m \u001b[38;5;28;01mwith\u001b[39;00m \u001b[38;5;28mself\u001b[39m\u001b[38;5;241m.\u001b[39maccelerator\u001b[38;5;241m.\u001b[39maccumulate(model):\n\u001b[1;32m   2268\u001b[0m     tr_loss_step \u001b[38;5;241m=\u001b[39m \u001b[38;5;28mself\u001b[39m\u001b[38;5;241m.\u001b[39mtraining_step(model, inputs)\n\u001b[1;32m   2270\u001b[0m \u001b[38;5;28;01mif\u001b[39;00m (\n\u001b[1;32m   2271\u001b[0m     args\u001b[38;5;241m.\u001b[39mlogging_nan_inf_filter\n\u001b[1;32m   2272\u001b[0m     \u001b[38;5;129;01mand\u001b[39;00m \u001b[38;5;129;01mnot\u001b[39;00m is_torch_xla_available()\n\u001b[0;32m-> 2273\u001b[0m     \u001b[38;5;129;01mand\u001b[39;00m (torch\u001b[38;5;241m.\u001b[39misnan(tr_loss_step) \u001b[38;5;129;01mor\u001b[39;00m \u001b[43mtorch\u001b[49m\u001b[38;5;241;43m.\u001b[39;49m\u001b[43misinf\u001b[49m\u001b[43m(\u001b[49m\u001b[43mtr_loss_step\u001b[49m\u001b[43m)\u001b[49m)\n\u001b[1;32m   2274\u001b[0m ):\n\u001b[1;32m   2275\u001b[0m     \u001b[38;5;66;03m# if loss is nan or inf simply add the average of previous logged losses\u001b[39;00m\n\u001b[1;32m   2276\u001b[0m     tr_loss \u001b[38;5;241m+\u001b[39m\u001b[38;5;241m=\u001b[39m tr_loss \u001b[38;5;241m/\u001b[39m (\u001b[38;5;241m1\u001b[39m \u001b[38;5;241m+\u001b[39m \u001b[38;5;28mself\u001b[39m\u001b[38;5;241m.\u001b[39mstate\u001b[38;5;241m.\u001b[39mglobal_step \u001b[38;5;241m-\u001b[39m \u001b[38;5;28mself\u001b[39m\u001b[38;5;241m.\u001b[39m_globalstep_last_logged)\n\u001b[1;32m   2277\u001b[0m \u001b[38;5;28;01melse\u001b[39;00m:\n",
      "\u001b[0;31mKeyboardInterrupt\u001b[0m: "
     ]
    }
   ],
   "source": [
    "from w2s.sft import lm_sft\n",
    "from w2s.utils import ds_with_labels\n",
    "from w2s.sft_config import set_default_args\n",
    "from transformers import TrainingArguments\n",
    "from datasets import DatasetDict\n",
    "from pathlib import Path\n",
    "\n",
    "n = 10\n",
    "train_args = set_default_args(\n",
    "    args={\n",
    "        \"num_train_epochs\": 50,\n",
    "        \"output_dir\": Path(model_path).parent.parent / f\"10sample_{seed}\",\n",
    "        \"per_device_train_batch_size\": 1,\n",
    "        \"gradient_accumulation_steps\": 32,\n",
    "        \"per_device_eval_batch_size\": 1,\n",
    "    },\n",
    "    model_name=model_name,\n",
    "    run_name=\"10sample.ipynb\"\n",
    ")\n",
    "ddict = DatasetDict(\n",
    "    train=ds_with_labels(disambig_train_ds.with_format(\"python\"), labels_column=\"soft_label\"),\n",
    "    test=ds_with_labels(eval_ds.with_format(\"python\"), labels_column=\"soft_label\")\n",
    ")\n",
    "model.train()\n",
    "lm_sft(\n",
    "    ddict,\n",
    "    model,\n",
    "    tokenizer,\n",
    "    TrainingArguments(**train_args),\n",
    "    loss=\"xent\",\n",
    "    cfg={\"notebook\": \"10sample.ipynb\"},\n",
    "    store_pre_hiddens=False,\n",
    "    store_post_hiddens=False\n",
    ")\n",
    "    "
   ]
  },
  {
   "cell_type": "code",
   "execution_count": 47,
   "metadata": {},
   "outputs": [
    {
     "ename": "AttributeError",
     "evalue": "'Sequence' object has no attribute 'value_counts'",
     "output_type": "error",
     "traceback": [
      "\u001b[0;31m---------------------------------------------------------------------------\u001b[0m",
      "\u001b[0;31mAttributeError\u001b[0m                            Traceback (most recent call last)",
      "Cell \u001b[0;32mIn[47], line 1\u001b[0m\n\u001b[0;32m----> 1\u001b[0m \u001b[43mddict\u001b[49m\u001b[43m[\u001b[49m\u001b[38;5;124;43m'\u001b[39;49m\u001b[38;5;124;43mtrain\u001b[39;49m\u001b[38;5;124;43m'\u001b[39;49m\u001b[43m]\u001b[49m\u001b[38;5;241;43m.\u001b[39;49m\u001b[43mfeatures\u001b[49m\u001b[43m[\u001b[49m\u001b[38;5;124;43m'\u001b[39;49m\u001b[38;5;124;43msoft_label\u001b[39;49m\u001b[38;5;124;43m'\u001b[39;49m\u001b[43m]\u001b[49m\u001b[38;5;241;43m.\u001b[39;49m\u001b[43mvalue_counts\u001b[49m()\n",
      "\u001b[0;31mAttributeError\u001b[0m: 'Sequence' object has no attribute 'value_counts'"
     ]
    }
   ],
   "source": [
    "ddict['train'].features['soft_label'].value_counts()"
   ]
  }
 ],
 "metadata": {
  "kernelspec": {
   "display_name": "w2s2",
   "language": "python",
   "name": "python3"
  },
  "language_info": {
   "codemirror_mode": {
    "name": "ipython",
    "version": 3
   },
   "file_extension": ".py",
   "mimetype": "text/x-python",
   "name": "python",
   "nbconvert_exporter": "python",
   "pygments_lexer": "ipython3",
   "version": "3.12.4"
  }
 },
 "nbformat": 4,
 "nbformat_minor": 2
}
